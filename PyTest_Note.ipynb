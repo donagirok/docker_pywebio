{
 "cells": [
  {
   "cell_type": "code",
   "execution_count": 1,
   "metadata": {},
   "outputs": [],
   "source": [
    "import numpy as np\n",
    "import pandas as pd\n",
    "\n",
    "# ok lets reset life back to normal\n",
    "\n",
    "from flask import Flask, send_from_directory\n",
    "\n",
    "import pywebio\n",
    "from pywebio.input import *\n",
    "from pywebio.output import *\n",
    "from pywebio import start_server\n",
    "from pywebio.exceptions import SessionClosedException\n",
    "\n",
    "import pickle\n",
    "import warnings\n",
    "import argparse\n",
    "import locale"
   ]
  },
  {
   "cell_type": "code",
   "execution_count": 2,
   "metadata": {},
   "outputs": [],
   "source": [
    "# Load the model pipeline from the file\n",
    "with open('nlp_pipeline.pkl', 'rb') as f:\n",
    "    loaded_pipe = pickle.load(f)\n",
    "\n",
    "\n",
    "import string\n",
    "from nltk.corpus import stopwords\n",
    "\n",
    "# function to remove punctuation and stopwords\n",
    "def text_process(mess):\n",
    "    \"\"\"\n",
    "    Takes in a string of text, then performs the following:\n",
    "    1. Remove all punctuation\n",
    "    2. Remove all stopwords\n",
    "    3. Returns a list of the cleaned text\n",
    "    \"\"\"\n",
    "    STOPWORDS = stopwords.words('english') + ['u', 'ü', 'ur', '4', '2', 'im', 'dont', 'doin', 'ure']\n",
    "    # Check characters to see if they are in punctuation\n",
    "    nopunc = [char for char in mess if char not in string.punctuation]\n",
    "\n",
    "    # Join the characters again to form the string.\n",
    "    nopunc = ''.join(nopunc)\n",
    "    \n",
    "    # Now just remove any stopwords\n",
    "    return ' '.join([word for word in nopunc.split() if word.lower() not in STOPWORDS])\n",
    "\n",
    "app = Flask(__name__)\n",
    "\n",
    "## PYWEBIO CODE\n",
    "\n",
    "pywebio.config(theme='sketchy')\n",
    "# Function to predict the insurance charges\n",
    "def prediction(prediction_df):\n",
    "    pred_out = loaded_pipe.predict(prediction_df)\n",
    "    final_result = pred_out[0]\n",
    "\n",
    "    return final_result\n",
    "\n",
    "# Function to get user input and display the prediction results\n",
    "def main():\n",
    "    put_markdown(\n",
    "        '''\n",
    "        # Application for predicting if a clients response is a Spam or Genuine message\n",
    "        '''\n",
    "        , lstrip=True\n",
    "    )\n",
    "\n",
    "    model_inputs = input_group(\n",
    "        \"Enter client's message below:\",\n",
    "        [\n",
    "            textarea(\"Enter your text here\", name='message'),\n",
    "        ]\n",
    "    )\n",
    "\n",
    "    # save user input in a dataframe and prepare it for prediction\n",
    "    prediction_df = pd.DataFrame(data = [[model_inputs[i] for i in ['message']]], \n",
    "                           columns = ['message'])\n",
    "    \n",
    "    # use text_process function to remove punctuations and stopwords\n",
    "    prediction_df['cleaned_message'] = prediction_df.message.apply(text_process)\n",
    "\n",
    "    user_input_message = prediction_df.cleaned_message\n",
    "    message_input = prediction(user_input_message)\n",
    "    put_markdown(\"### This response has been marked as: {} \".format(message_input))\n",
    "\n",
    "#ERASE PYWEBIO IF MAIN AND REPLACE WITH FLASK\n",
    "# function to Start the PyWebIO web application\n",
    "# if __name__ == \"__main__\":\n",
    "#     try:\n",
    "#         main()\n",
    "#     except SessionClosedException:\n",
    "#         print(\"The session was closed unexpectedly\")\n",
    "\n",
    "app.add_url_rule('/tool', 'webio_view', main) #MIGHT NEED TO CHANGE THIS TO webio_view(main) if it doesn't work\n",
    "methods = ['GET', 'POST', 'PUT', 'DELETE', 'PATCH', 'OPTIONS']"
   ]
  },
  {
   "cell_type": "code",
   "execution_count": 3,
   "metadata": {},
   "outputs": [
    {
     "name": "stderr",
     "output_type": "stream",
     "text": [
      "usage: ipykernel_launcher.py [-h] [-p PORT]\n",
      "ipykernel_launcher.py: error: unrecognized arguments: --f=c:\\Users\\Don\\AppData\\Roaming\\jupyter\\runtime\\kernel-v366dc29a5bb104b622203b629d48f001d79c33363.json\n"
     ]
    },
    {
     "ename": "SystemExit",
     "evalue": "2",
     "output_type": "error",
     "traceback": [
      "An exception has occurred, use %tb to see the full traceback.\n",
      "\u001b[1;31mSystemExit\u001b[0m\u001b[1;31m:\u001b[0m 2\n"
     ]
    },
    {
     "name": "stderr",
     "output_type": "stream",
     "text": [
      "c:\\Users\\Don\\miniconda3\\envs\\pyca\\lib\\site-packages\\IPython\\core\\interactiveshell.py:3561: UserWarning: To exit: use 'exit', 'quit', or Ctrl-D.\n",
      "  warn(\"To exit: use 'exit', 'quit', or Ctrl-D.\", stacklevel=1)\n"
     ]
    }
   ],
   "source": [
    "# Start Flask app\n",
    "if __name__ == '__main__':\n",
    "    parser = argparse.ArgumentParser()\n",
    "    parser.add_argument('-p', '--port', type=int, default=8080, help='Port to use')\n",
    "    args = parser.parse_args()\n",
    "\n",
    "    # Start the PyWebIO application\n",
    "    pywebio.start_server(main, port=args.port)"
   ]
  },
  {
   "cell_type": "code",
   "execution_count": null,
   "metadata": {},
   "outputs": [],
   "source": []
  }
 ],
 "metadata": {
  "kernelspec": {
   "display_name": "pyca",
   "language": "python",
   "name": "python3"
  },
  "language_info": {
   "codemirror_mode": {
    "name": "ipython",
    "version": 3
   },
   "file_extension": ".py",
   "mimetype": "text/x-python",
   "name": "python",
   "nbconvert_exporter": "python",
   "pygments_lexer": "ipython3",
   "version": "3.8.18"
  }
 },
 "nbformat": 4,
 "nbformat_minor": 2
}
